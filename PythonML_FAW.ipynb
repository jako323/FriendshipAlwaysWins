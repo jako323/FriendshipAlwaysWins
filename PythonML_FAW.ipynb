{
  "nbformat": 4,
  "nbformat_minor": 0,
  "metadata": {
    "colab": {
      "provenance": [],
      "include_colab_link": true
    },
    "kernelspec": {
      "name": "python3",
      "display_name": "Python 3"
    },
    "language_info": {
      "name": "python"
    }
  },
  "cells": [
    {
      "cell_type": "markdown",
      "metadata": {
        "id": "view-in-github",
        "colab_type": "text"
      },
      "source": [
        "<a href=\"https://colab.research.google.com/github/jako323/FriendshipAlwaysWins/blob/Michal/PythonML_FAW.ipynb\" target=\"_parent\"><img src=\"https://colab.research.google.com/assets/colab-badge.svg\" alt=\"Open In Colab\"/></a>"
      ]
    },
    {
      "cell_type": "code",
      "execution_count": 3,
      "metadata": {
        "id": "ntm6JaAkrhaX"
      },
      "outputs": [],
      "source": [
        "def func1():\n",
        "    return 'Kasper'"
      ]
    },
    {
      "cell_type": "code",
      "source": [
        "def func2():\n",
        "    return 'Michal'"
      ],
      "metadata": {
        "id": "eVYObpoprxdv"
      },
      "execution_count": 1,
      "outputs": []
    },
    {
      "cell_type": "code",
      "source": [
        "def func3():\n",
        "    return 'Kubik'"
      ],
      "metadata": {
        "id": "sNAERS4Dr0zW"
      },
      "execution_count": 4,
      "outputs": []
    },
    {
      "cell_type": "code",
      "source": [
        "def func4():\n",
        "    return 'Kuba'"
      ],
      "metadata": {
        "id": "VY49hm50r37G"
      },
      "execution_count": 5,
      "outputs": []
    },
    {
      "cell_type": "code",
      "source": [
        "a = func1()\n",
        "b = func2()\n",
        "c = func3()\n",
        "d = func4()\n",
        "\n",
        "print([a, b, c, d])"
      ],
      "metadata": {
        "colab": {
          "base_uri": "https://localhost:8080/"
        },
        "id": "6w16nPiEr_B9",
        "outputId": "95bdeb01-52ab-44e9-8a97-16458bd467fe"
      },
      "execution_count": 5,
      "outputs": [
        {
          "output_type": "stream",
          "name": "stdout",
          "text": [
            "['Wytrzymka', 'Michal', 'Automa', 'Sygnaly']\n"

          ]
        }
      ]
    }
  ]
}